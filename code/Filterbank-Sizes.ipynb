{
 "cells": [
  {
   "cell_type": "code",
   "execution_count": null,
   "metadata": {},
   "outputs": [],
   "source": [
    "%run ./ApplyFilter.py\n",
    "\n",
    "import cv2\n",
    "from skimage.color import label2rgb\n",
    "import matplotlib.pyplot as plt\n",
    "import numpy as np\n",
    "import scipy.io as sio\n",
    "from skimage.segmentation import slic, mark_boundaries\n",
    "import os\n",
    "\n",
    "plt.ioff()\n",
    "%matplotlib inline\n",
    "plt.rcParams['figure.figsize'] = [8, 8]"
   ]
  },
  {
   "cell_type": "code",
   "execution_count": null,
   "metadata": {},
   "outputs": [],
   "source": [
    "mat = sio.loadmat(\"filterbanks.mat\")\n",
    "filelist = [\"images/p03_01.png\", \"images/p03_02.png\", \"images/p03_03.png\", \"images/p03_04.png\"]\n",
    "\n",
    "for f in filelist:\n",
    "    image = cv2.cvtColor(cv2.imread(f)[:,:,::-1], cv2.COLOR_RGB2GRAY)\n",
    "\n",
    "    for s in [0.5, 0.75, 1.0, 1.25, 1.5]:\n",
    "        n = os.path.basename(f)\n",
    "\n",
    "        g = mat[\"RFSfilters\"]\n",
    "\n",
    "        mr_out = applyFilter(image, g, mr = True, size=s, w_spatial=1, w_color=1).reshape((image.shape[0],image.shape[1]))\n",
    "\n",
    "        plt.figure()\n",
    "        plt.imshow(label2rgb(mr_out, image, alpha=0.4))\n",
    "        plt.axis('off')\n",
    "        plt.savefig(\"gen/filter_size/\"+n+\"_\"+format(s, '.2f')+\".png\", bbox_inches=\"tight\", pad_inches = 0)"
   ]
  },
  {
   "cell_type": "code",
   "execution_count": null,
   "metadata": {},
   "outputs": [],
   "source": []
  }
 ],
 "metadata": {
  "kernelspec": {
   "display_name": "Python 3",
   "language": "python",
   "name": "python3"
  },
  "language_info": {
   "codemirror_mode": {
    "name": "ipython",
    "version": 3
   },
   "file_extension": ".py",
   "mimetype": "text/x-python",
   "name": "python",
   "nbconvert_exporter": "python",
   "pygments_lexer": "ipython3",
   "version": "3.7.6"
  }
 },
 "nbformat": 4,
 "nbformat_minor": 4
}
