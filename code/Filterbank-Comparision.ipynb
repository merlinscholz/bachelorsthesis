{
 "cells": [
  {
   "cell_type": "code",
   "execution_count": null,
   "metadata": {},
   "outputs": [],
   "source": [
    "## Imports\n",
    "%run ./ApplyFilter.py\n",
    "\n",
    "import cv2\n",
    "from sklearn.cluster import KMeans\n",
    "from skimage.color import label2rgb\n",
    "import matplotlib.pyplot as plt\n",
    "import numpy as np\n",
    "import scipy.io as sio\n",
    "from skimage.segmentation import slic, mark_boundaries\n",
    "import os\n",
    "\n",
    "plt.ioff()\n",
    "%matplotlib inline\n",
    "plt.rcParams['figure.figsize'] = [8, 8]\n",
    "\n"
   ]
  },
  {
   "cell_type": "code",
   "execution_count": null,
   "metadata": {},
   "outputs": [],
   "source": [
    "## Gaborfilters\n",
    "\n",
    "mat = sio.loadmat(\"filterbanks.mat\")\n",
    "filelist = [\"images/Gre13_01.jpg\", \"images/Gre13_02.jpg\", \"images/Gre13_03.jpg\", \"images/Gre13_05.jpg\"]\n",
    "\n",
    "for f in filelist:\n",
    "    image = cv2.cvtColor(cv2.imread(f)[:,:,::-1], cv2.COLOR_RGB2GRAY)\n",
    "    n = os.path.basename(f)\n",
    "    g = mat[\"TSUGFfilters\"]\n",
    "\n",
    "    tsugf_out = applyFilter(image, g, mr = False, w_spatial=1, w_color=1, size=1.5).reshape((image.shape[0],image.shape[1]))\n",
    "\n",
    "    plt.figure()\n",
    "    plt.imshow(label2rgb(tsugf_out, image, alpha=0.45))\n",
    "    plt.axis('off')\n",
    "    plt.savefig(\"gen/filterbanks/\"+n+\"_TSUGF\"+\".png\", bbox_inches=\"tight\", pad_inches = 0)\n",
    "\n",
    "    g = mat[\"LMfilters\"]\n",
    "\n",
    "    tsugf_out = applyFilter(image, g, mr = False, w_spatial=1, w_color=1, size=1.5).reshape((image.shape[0],image.shape[1]))\n",
    "\n",
    "    plt.figure()\n",
    "    plt.imshow(label2rgb(tsugf_out, image, alpha=0.45))\n",
    "    plt.axis('off')\n",
    "    plt.savefig(\"gen/filterbanks/\"+n+\"_LM\"+\".png\", bbox_inches=\"tight\", pad_inches = 0)\n",
    "\n",
    "    g = mat[\"Sfilters\"]\n",
    "\n",
    "    tsugf_out = applyFilter(image, g, mr = False, w_spatial=1, w_color=1, size=1.5).reshape((image.shape[0],image.shape[1]))\n",
    "\n",
    "    plt.figure()\n",
    "    plt.imshow(label2rgb(tsugf_out, image, alpha=0.45))\n",
    "    plt.axis('off')\n",
    "    plt.savefig(\"gen/filterbanks/\"+n+\"_S\"+\".png\", bbox_inches=\"tight\", pad_inches = 0)\n",
    "\n",
    "    g = mat[\"RFSfilters\"]\n",
    "\n",
    "    tsugf_out = applyFilter(image, g, mr = True, size=0.5, w_spatial=1, w_color=1).reshape((image.shape[0],image.shape[1]))\n",
    "\n",
    "    plt.figure()\n",
    "    plt.imshow(label2rgb(tsugf_out, image, alpha=0.45))\n",
    "    plt.axis('off')\n",
    "    plt.savefig(\"gen/filterbanks/\"+n+\"_MR\"+\".png\", bbox_inches=\"tight\", pad_inches = 0)"
   ]
  }
 ],
 "metadata": {
  "kernelspec": {
   "display_name": "Python 3",
   "language": "python",
   "name": "python3"
  },
  "language_info": {
   "codemirror_mode": {
    "name": "ipython",
    "version": 3
   },
   "file_extension": ".py",
   "mimetype": "text/x-python",
   "name": "python",
   "nbconvert_exporter": "python",
   "pygments_lexer": "ipython3",
   "version": "3.7.5"
  }
 },
 "nbformat": 4,
 "nbformat_minor": 4
}
