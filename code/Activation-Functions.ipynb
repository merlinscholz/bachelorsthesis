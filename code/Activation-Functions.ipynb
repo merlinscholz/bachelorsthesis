{
 "cells": [
  {
   "cell_type": "code",
   "execution_count": null,
   "metadata": {
    "colab": {},
    "colab_type": "code",
    "id": "-iHAO_JQRcBf"
   },
   "outputs": [],
   "source": [
    "%run ApplyFilter.py\n",
    "%run Loop.py\n",
    "\n",
    "input_files = [\"images/p03_02.png\", \"images/p03_03.png\", \"images/p03_04.png\", \"images/p03_01.png\"]\n",
    "tensorboard = True"
   ]
  },
  {
   "cell_type": "code",
   "execution_count": null,
   "metadata": {
    "colab": {},
    "colab_type": "code",
    "id": "RjKQm6mNRnbF"
   },
   "outputs": [],
   "source": [
    "import os\n",
    "from time import time\n",
    "\n",
    "import cv2\n",
    "import matplotlib.pyplot as plt\n",
    "import numpy as np\n",
    "import scipy.io as sio\n",
    "from IPython.display import display\n",
    "from skimage.color import label2rgb\n",
    "from skimage.segmentation import mark_boundaries\n",
    "\n",
    "starttime = time()\n",
    "%matplotlib inline\n",
    "plt.rcParams['figure.figsize'] = [15, 15]"
   ]
  },
  {
   "cell_type": "code",
   "execution_count": null,
   "metadata": {
    "colab": {},
    "colab_type": "code",
    "id": "3U5mtbIiLnKk"
   },
   "outputs": [],
   "source": [
    "class MNet(nn.Module):\n",
    "  def __init__(self, input_dim, feature_dim, activation = None):\n",
    "    super().__init__()\n",
    "    self.input_dim = input_dim\n",
    "    self.feature_dim = feature_dim\n",
    "    self.fc_dim = feature_dim\n",
    "    \n",
    "    self.conv1 = nn.Conv2d(self.input_dim, self.feature_dim, kernel_size=5, stride=1, padding=2)\n",
    "    \n",
    "    self.bn1 = nn.BatchNorm2d(self.feature_dim)\n",
    "    self.conv2a = nn.Conv2d(self.feature_dim, self.feature_dim, kernel_size=5, stride=1, padding=2)\n",
    "    self.bn2a = nn.BatchNorm2d(self.feature_dim)\n",
    "    self.conv2b = nn.Conv2d(self.feature_dim, self.feature_dim, kernel_size=5, stride=1, padding=2)\n",
    "    self.bn2b = nn.BatchNorm2d(self.feature_dim)\n",
    "    self.conv2c = nn.Conv2d(self.feature_dim, self.feature_dim, kernel_size=5, stride=1, padding=2)\n",
    "    self.bn2c = nn.BatchNorm2d(self.feature_dim)\n",
    "    self.conv3 = nn.Conv2d(self.feature_dim, self.fc_dim, kernel_size=1, stride=1, padding=0)\n",
    "    self.bn3 = nn.BatchNorm2d(self.fc_dim)\n",
    "    \n",
    "    if activation is None:\n",
    "        self.act1 = nn.Identity()\n",
    "        self.act2a = nn.Identity()\n",
    "        self.act2b = nn.Identity()\n",
    "        self.act2c = nn.Identity()\n",
    "        self.act3 = nn.Identity()\n",
    "    elif activation is \"relu\":\n",
    "        self.act1 = nn.ReLU()\n",
    "        self.act2a = nn.ReLU()\n",
    "        self.act2b = nn.ReLU()\n",
    "        self.act2c = nn.ReLU()\n",
    "        self.act3 = nn.ReLU()\n",
    "    elif activation is \"sigmoid\":\n",
    "        self.act1 = nn.Sigmoid()\n",
    "        self.act2a = nn.Sigmoid()\n",
    "        self.act2b = nn.Sigmoid()\n",
    "        self.act2c = nn.Sigmoid()\n",
    "        self.act3 = nn.Sigmoid()\n",
    "    elif activation is \"tanh\":\n",
    "        self.act1 = nn.Tanh()\n",
    "        self.act2a = nn.Tanh()\n",
    "        self.act2b = nn.Tanh()\n",
    "        self.act2c = nn.Tanh()\n",
    "        self.act3 = nn.Tanh() \n",
    "  def forward(self, x):\n",
    "    x = self.conv1(x)\n",
    "    x = self.act1(x)\n",
    "    x = self.bn1(x)\n",
    "    x = self.conv2a(x)\n",
    "    x = self.act2a(x)\n",
    "    x = self.bn2a(x)\n",
    "    x = self.conv2b(x)\n",
    "    x = self.act2b(x)\n",
    "    x = self.bn2b(x)\n",
    "    #x = self.conv2c(x)\n",
    "    #x = self.act2c(x)\n",
    "    #x = self.bn2c(x)\n",
    "    x = self.conv3(x)\n",
    "    x = self.act3(x)\n",
    "    x = self.bn3(x)\n",
    "    return x[0]\n"
   ]
  },
  {
   "cell_type": "code",
   "execution_count": null,
   "metadata": {
    "colab": {},
    "colab_type": "code",
    "id": "HtDUQmNDMaBM"
   },
   "outputs": [],
   "source": [
    "images = []\n",
    "for file in input_files:\n",
    "    try:\n",
    "        images.append(cv2.cvtColor(cv2.imread(file)[:,:,::-1], cv2.COLOR_RGB2GRAY)[:,:,np.newaxis])\n",
    "    except:\n",
    "        pass\n",
    "\n",
    "activations = [None, \"sigmoid\", \"relu\", \"tanh\"]\n",
    "    \n",
    "mat = sio.loadmat(\"./filterbanks/filterbanks.mat\")\n",
    "g = mat[\"RFSfilters\"]\n",
    "\n",
    "starttime = time()\n",
    "for i in range(len(images)):\n",
    "    for a in activations:\n",
    "        f = os.path.basename(input_files[i])\n",
    "        model = MNet(1, 100, a)\n",
    "        clustered = applyFilter(images[i], g, mr = True)\n",
    "        segmented = run(images[i], clustered, model, starttime = starttime, filename = f+\"_\"+str(a))\n",
    "        print(segmented[\"n_labels\"])\n",
    "        print(segmented[\"epochs\"])\n",
    "        plt.figure()\n",
    "        plt.imshow(label2rgb(segmented[\"labels\"], cv2.cvtColor(images[i], cv2.COLOR_GRAY2RGB), alpha=0.4))\n",
    "        plt.axis('off')\n",
    "        plt.savefig(\"gen/activation_functions/\"+f+\"_\"+str(a)+\".png\", bbox_inches=\"tight\", pad_inches = 0)\n",
    "        plt.show()\n",
    "        plt.figure()\n",
    "        plt.imshow(mark_boundaries(cv2.cvtColor(images[i], cv2.COLOR_GRAY2RGB), segmented[\"labels\"]))\n",
    "        plt.show()"
   ]
  },
  {
   "cell_type": "code",
   "execution_count": null,
   "metadata": {},
   "outputs": [],
   "source": []
  }
 ],
 "metadata": {
  "accelerator": "GPU",
  "colab": {
   "collapsed_sections": [],
   "name": "udc.ipynb",
   "provenance": [],
   "toc_visible": true
  },
  "kernelspec": {
   "display_name": "Python 3",
   "language": "python",
   "name": "python3"
  },
  "language_info": {
   "codemirror_mode": {
    "name": "ipython",
    "version": 3
   },
   "file_extension": ".py",
   "mimetype": "text/x-python",
   "name": "python",
   "nbconvert_exporter": "python",
   "pygments_lexer": "ipython3",
   "version": "3.7.6"
  },
  "pycharm": {
   "stem_cell": {
    "cell_type": "raw",
    "metadata": {
     "collapsed": false
    },
    "source": []
   }
  },
  "varInspector": {
   "cols": {
    "lenName": 16,
    "lenType": 16,
    "lenVar": 40
   },
   "kernels_config": {
    "python": {
     "delete_cmd_postfix": "",
     "delete_cmd_prefix": "del ",
     "library": "var_list.py",
     "varRefreshCmd": "print(var_dic_list())"
    },
    "r": {
     "delete_cmd_postfix": ") ",
     "delete_cmd_prefix": "rm(",
     "library": "var_list.r",
     "varRefreshCmd": "cat(var_dic_list()) "
    }
   },
   "types_to_exclude": [
    "module",
    "function",
    "builtin_function_or_method",
    "instance",
    "_Feature"
   ],
   "window_display": false
  }
 },
 "nbformat": 4,
 "nbformat_minor": 4
}
