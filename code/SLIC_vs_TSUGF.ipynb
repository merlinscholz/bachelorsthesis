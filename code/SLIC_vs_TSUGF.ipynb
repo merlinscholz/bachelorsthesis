{
 "cells": [
  {
   "cell_type": "code",
   "execution_count": null,
   "metadata": {},
   "outputs": [],
   "source": [
    "%run ./ApplyFilter.py\n",
    "\n",
    "import cv2\n",
    "from skimage.color import label2rgb\n",
    "import matplotlib.pyplot as plt\n",
    "import numpy as np\n",
    "import scipy.io as sio\n",
    "from skimage.segmentation import slic, mark_boundaries\n",
    "import os\n",
    "\n",
    "plt.ioff()\n",
    "%matplotlib inline\n",
    "plt.rcParams['figure.figsize'] = [8, 8]\n",
    "\n",
    "filename = \"images/Gre13_01.jpg\"\n",
    "image = cv2.cvtColor(cv2.imread(filename)[:,:,::-1], cv2.COLOR_RGB2GRAY)\n",
    "n = os.path.basename(filename)\n"
   ]
  },
  {
   "cell_type": "code",
   "execution_count": null,
   "metadata": {},
   "outputs": [],
   "source": [
    "## SLIC\n",
    "slic_out = slic(cv2.cvtColor(image, cv2.COLOR_GRAY2RGB), compactness=5, n_segments=10, enforce_connectivity=False)\n",
    "\n",
    "plt.figure()\n",
    "plt.imshow(label2rgb(slic_out, image, alpha=0.5))\n",
    "plt.axis('off')\n",
    "plt.savefig(\"gen/slic_vs_tsugf/\"+n+\"_slic.png\", bbox_inches=\"tight\", pad_inches = 0)\n",
    "\n",
    "plt.show()\n",
    "plt.figure()\n",
    "plt.imshow(mark_boundaries(image, slic_out))\n",
    "plt.axis('off')\n",
    "plt.show()"
   ]
  },
  {
   "cell_type": "code",
   "execution_count": null,
   "metadata": {},
   "outputs": [],
   "source": [
    "## Gaborfilters\n",
    "\n",
    "mat = sio.loadmat(\"filterbanks.mat\")\n",
    "g = mat[\"TSUGFfilters\"]\n",
    "\n",
    "#tags = Parallel(n_jobs=5, backend=\"threading\", verbose=10)(delayed(applyfilter)(A, g) for A in images)\n",
    "#tags = applyfilter(image, g)\n",
    "\n",
    "tsugf_out = applyFilter(image, g, mr = False, w_spatial=1, w_color=1, size=1.5).reshape((image.shape[0],image.shape[1]))\n",
    "\n",
    "plt.figure()\n",
    "plt.imshow(label2rgb(tsugf_out, image, alpha=0.5))\n",
    "plt.axis('off')\n",
    "plt.savefig(\"gen/slic_vs_tsugf/\"+n+\"_tsugf.png\", bbox_inches=\"tight\", pad_inches = 0)\n",
    "\n",
    "plt.show()\n",
    "plt.figure()\n",
    "plt.imshow(mark_boundaries(image, tsugf_out))\n",
    "plt.axis('off')\n",
    "plt.show()"
   ]
  }
 ],
 "metadata": {
  "kernelspec": {
   "display_name": "Python 3",
   "language": "python",
   "name": "python3"
  },
  "language_info": {
   "codemirror_mode": {
    "name": "ipython",
    "version": 3
   },
   "file_extension": ".py",
   "mimetype": "text/x-python",
   "name": "python",
   "nbconvert_exporter": "python",
   "pygments_lexer": "ipython3",
   "version": "3.7.6"
  }
 },
 "nbformat": 4,
 "nbformat_minor": 4
}
