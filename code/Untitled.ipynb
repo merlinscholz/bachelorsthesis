{
 "cells": [
  {
   "cell_type": "code",
   "execution_count": 16,
   "metadata": {},
   "outputs": [
    {
     "data": {
      "text/plain": [
       "True"
      ]
     },
     "execution_count": 16,
     "metadata": {},
     "output_type": "execute_result"
    }
   ],
   "source": [
    "import cv2\n",
    "import numpy as np\n",
    "import matplotlib.pyplot as plt\n",
    "from os import listdir\n",
    "\n",
    "out = np.zeros((7680, int(7680/20)))\n",
    "\n",
    "filelist = listdir(\"/data/ba/ba/data/results_robbins/postprocessing/\")\n",
    "for i in range(len(filelist)):\n",
    "    input = cv2.imread(\"/data/ba/ba/data/results_robbins/postprocessing/\"+filelist[i])[:,:,1]\n",
    "    input = cv2.resize(input, (384, 384), interpolation=cv2.INTER_NEAREST)\n",
    "    out[i*int(7680/20):(i+1)*int(7680/20), :] = input\n",
    "\n",
    "cv2.imwrite('./results_robbins.png', out)"
   ]
  },
  {
   "cell_type": "code",
   "execution_count": 3,
   "metadata": {},
   "outputs": [
    {
     "name": "stdout",
     "output_type": "stream",
     "text": [
      "[0 1]\n",
      "[0 1]\n",
      "0.6373863733067205\n"
     ]
    }
   ],
   "source": [
    "import cv2\n",
    "import numpy as np\n",
    "from sklearn.metrics import f1_score\n",
    "\n",
    "res = cv2.imread('./images/results_fix_robbins.png')[:,:,1]\n",
    "gt = cv2.imread('./images/gt_robbins.png')[:,:,1]\n",
    "\n",
    "\n",
    "_, res = cv2.threshold(res, 128, 255,cv2.THRESH_BINARY)\n",
    "res = (res/255).astype(int)\n",
    "gt = (gt/255).astype(int)\n",
    "\n",
    "print(np.unique(res))\n",
    "print(np.unique(gt))\n",
    "\n",
    "print(f1_score(gt.flatten(), res.flatten(), average='binary', pos_label=1))"
   ]
  },
  {
   "cell_type": "code",
   "execution_count": null,
   "metadata": {},
   "outputs": [],
   "source": []
  }
 ],
 "metadata": {
  "kernelspec": {
   "display_name": "Python 3",
   "language": "python",
   "name": "python3"
  },
  "language_info": {
   "codemirror_mode": {
    "name": "ipython",
    "version": 3
   },
   "file_extension": ".py",
   "mimetype": "text/x-python",
   "name": "python",
   "nbconvert_exporter": "python",
   "pygments_lexer": "ipython3",
   "version": "3.7.5"
  }
 },
 "nbformat": 4,
 "nbformat_minor": 4
}
