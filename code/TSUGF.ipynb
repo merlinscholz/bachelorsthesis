{
 "cells": [
  {
   "cell_type": "code",
   "execution_count": null,
   "metadata": {},
   "outputs": [],
   "source": [
    "%run ./ApplyFilter.py\n",
    "\n",
    "import cv2\n",
    "from skimage.color import label2rgb\n",
    "import matplotlib.pyplot as plt\n",
    "import numpy as np\n",
    "import scipy.io as sio\n",
    "from skimage.segmentation import slic, mark_boundaries\n",
    "import os\n",
    "\n",
    "plt.ioff()\n",
    "%matplotlib inline\n",
    "plt.rcParams['figure.figsize'] = [8, 8]\n",
    "\n",
    "filename = \"images/101027.jpg\"\n",
    "image = cv2.imread(filename)[:,:,::-1]\n",
    "n = os.path.basename(filename)"
   ]
  },
  {
   "cell_type": "code",
   "execution_count": null,
   "metadata": {},
   "outputs": [],
   "source": [
    "mat = sio.loadmat(\"filterbanks.mat\")\n",
    "g = mat[\"TSUGFfilters\"]\n",
    "\n",
    "plt.imshow(label2rgb(applyFilter(image, g, no_blur = True, no_spatial = True, no_norm = True, no_color = True, mr = False, w_spatial=1, w_color=1, size=1.19, n_clusters=5).reshape((image.shape[0],image.shape[1]))))\n",
    "plt.axis('off')\n",
    "plt.savefig(\"gen/optims/\"+n+\"_raw\"+\".png\", bbox_inches=\"tight\", pad_inches = 0)\n",
    "plt.show()\n",
    "\n",
    "plt.imshow(label2rgb(applyFilter(image, g, no_spatial = True, no_norm = True, no_color = True, mr = False, w_spatial=1, w_color=1, size=1.19, n_clusters=5).reshape((image.shape[0],image.shape[1]))))\n",
    "plt.axis('off')\n",
    "plt.savefig(\"gen/optims/\"+n+\"_blur\"+\".png\", bbox_inches=\"tight\", pad_inches = 0)\n",
    "plt.show()\n",
    "\n",
    "#plt.imshow(label2rgb(applyFilter(image, g, no_color = True, no_spatial = True, w_spatial=1, w_color=1, size=1.19, n_clusters=5).reshape((image.shape[0],image.shape[1]))))\n",
    "#plt.axis('off')\n",
    "#plt.savefig(\"gen/optims/\"+n+\"_blur_norm\"+\".png\", bbox_inches=\"tight\", pad_inches = 0)\n",
    "#plt.show()\n",
    "\n",
    "plt.imshow(label2rgb(applyFilter(image, g, no_color = True, mr = False, w_spatial=1, w_color=1, size=1.19, n_clusters=5).reshape((image.shape[0],image.shape[1]))))\n",
    "plt.axis('off')\n",
    "plt.savefig(\"gen/optims/\"+n+\"_blur_norm_spatial\"+\".png\", bbox_inches=\"tight\", pad_inches = 0)\n",
    "plt.show()\n",
    "\n",
    "plt.imshow(label2rgb(applyFilter(image, g, mr = False, w_spatial=1, w_color=1, size=1.19, n_clusters=5).reshape((image.shape[0],image.shape[1]))))\n",
    "plt.axis('off')\n",
    "plt.savefig(\"gen/optims/\"+n+\"_blur_norm_spatial_color\"+\".png\", bbox_inches=\"tight\", pad_inches = 0)\n",
    "plt.show()\n"
   ]
  },
  {
   "cell_type": "code",
   "execution_count": null,
   "metadata": {},
   "outputs": [],
   "source": [
    "mat = sio.loadmat(\"filterbanks.mat\")\n",
    "g = mat[\"TSUGFfilters\"]\n",
    "\n",
    "bank_results = applyFilter(image, g, mr = False, w_spatial=1, w_color=1, r_bank_results = True, no_color=True, no_spatial=True, size=1.19)\n",
    "for i in range(len(bank_results)):\n",
    "    plt.imshow(bank_results[i])\n",
    "    plt.axis('off')\n",
    "    plt.savefig(\"gen/convolution/\"+n+\"_blur_norm_spatial_color\"+\".png\", bbox_inches=\"tight\", pad_inches = 0)\n",
    "    plt.show()"
   ]
  },
  {
   "cell_type": "code",
   "execution_count": null,
   "metadata": {},
   "outputs": [],
   "source": []
  }
 ],
 "metadata": {
  "kernelspec": {
   "display_name": "Python 3",
   "language": "python",
   "name": "python3"
  },
  "language_info": {
   "codemirror_mode": {
    "name": "ipython",
    "version": 3
   },
   "file_extension": ".py",
   "mimetype": "text/x-python",
   "name": "python",
   "nbconvert_exporter": "python",
   "pygments_lexer": "ipython3",
   "version": "3.7.6"
  }
 },
 "nbformat": 4,
 "nbformat_minor": 4
}
